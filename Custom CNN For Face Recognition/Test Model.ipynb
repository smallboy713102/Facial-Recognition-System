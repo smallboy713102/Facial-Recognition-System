{
 "cells": [
  {
   "cell_type": "code",
   "execution_count": 6,
   "id": "ea14ad53",
   "metadata": {},
   "outputs": [
    {
     "name": "stdout",
     "output_type": "stream",
     "text": [
      "Found 23 images belonging to 14 classes.\n",
      "Epoch 1/10\n",
      "2/2 [==============================] - 0s 62ms/step - loss: 2.2852 - accuracy: 0.3043\n",
      "Epoch 2/10\n",
      "2/2 [==============================] - 0s 36ms/step - loss: 2.0549 - accuracy: 0.4348\n",
      "Epoch 3/10\n",
      "2/2 [==============================] - 0s 26ms/step - loss: 1.9613 - accuracy: 0.4348\n",
      "Epoch 4/10\n",
      "2/2 [==============================] - 0s 40ms/step - loss: 1.7697 - accuracy: 0.4348\n",
      "Epoch 5/10\n",
      "2/2 [==============================] - 0s 41ms/step - loss: 1.5562 - accuracy: 0.5217\n",
      "Epoch 6/10\n",
      "2/2 [==============================] - 0s 43ms/step - loss: 1.4685 - accuracy: 0.4783\n",
      "Epoch 7/10\n",
      "2/2 [==============================] - 0s 112ms/step - loss: 1.3505 - accuracy: 0.6087\n",
      "Epoch 8/10\n",
      "2/2 [==============================] - 0s 48ms/step - loss: 1.1636 - accuracy: 0.6957\n",
      "Epoch 9/10\n",
      "2/2 [==============================] - 0s 93ms/step - loss: 1.0958 - accuracy: 0.6957\n",
      "Epoch 10/10\n",
      "2/2 [==============================] - 0s 97ms/step - loss: 1.0180 - accuracy: 0.7391\n"
     ]
    }
   ],
   "source": [
    "import os\n",
    "import cv2\n",
    "import numpy as np\n",
    "from keras.models import Sequential\n",
    "from keras.layers import Conv2D, MaxPooling2D, Flatten, Dense\n",
    "from keras.preprocessing.image import ImageDataGenerator\n",
    "from sklearn.preprocessing import LabelEncoder\n",
    "from keras.utils import to_categorical\n",
    "\n",
    "# Path to the folder containing the training images\n",
    "train_data_folder = 'training_images'\n",
    "\n",
    "# Parameters for the CNN model and training process\n",
    "input_shape = (128, 128, 3)  # Input image dimensions\n",
    "batch_size = 14\n",
    "num_epochs = 10\n",
    "num_classes = len(os.listdir(train_data_folder))\n",
    "\n",
    "# Preprocessing and data augmentation for training images\n",
    "train_data_generator = ImageDataGenerator(rescale=1./255, shear_range=0.2, zoom_range=0.2, horizontal_flip=True)\n",
    "\n",
    "# Load the training images and labels\n",
    "train_data = train_data_generator.flow_from_directory(\n",
    "    train_data_folder,\n",
    "    target_size=input_shape[:2],\n",
    "    batch_size=batch_size,\n",
    "    class_mode='categorical',\n",
    "    shuffle=True\n",
    ")\n",
    "\n",
    "# Create the CNN model\n",
    "model = Sequential()\n",
    "model.add(Conv2D(32, (3, 3), activation='relu', input_shape=input_shape))\n",
    "model.add(MaxPooling2D((2, 2)))\n",
    "model.add(Conv2D(64, (3, 3), activation='relu'))\n",
    "model.add(MaxPooling2D((2, 2)))\n",
    "model.add(Conv2D(128, (3, 3), activation='relu'))\n",
    "model.add(MaxPooling2D((2, 2)))\n",
    "model.add(Flatten())\n",
    "model.add(Dense(128, activation='relu'))\n",
    "model.add(Dense(14, activation='softmax'))\n",
    "\n",
    "# Compile the model\n",
    "model.compile(optimizer='adam', loss='categorical_crossentropy', metrics=['accuracy'])\n",
    "\n",
    "# Train the model\n",
    "model.fit(train_data, epochs=num_epochs)\n",
    "\n",
    "# Save the trained model\n",
    "model.save('model.h5')\n",
    "\n"
   ]
  },
  {
   "cell_type": "code",
   "execution_count": null,
   "id": "3566916b",
   "metadata": {},
   "outputs": [],
   "source": []
  }
 ],
 "metadata": {
  "kernelspec": {
   "display_name": "Python 3 (ipykernel)",
   "language": "python",
   "name": "python3"
  },
  "language_info": {
   "codemirror_mode": {
    "name": "ipython",
    "version": 3
   },
   "file_extension": ".py",
   "mimetype": "text/x-python",
   "name": "python",
   "nbconvert_exporter": "python",
   "pygments_lexer": "ipython3",
   "version": "3.8.16"
  }
 },
 "nbformat": 4,
 "nbformat_minor": 5
}
